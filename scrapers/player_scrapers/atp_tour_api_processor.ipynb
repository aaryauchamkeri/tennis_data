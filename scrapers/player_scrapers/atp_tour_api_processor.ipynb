{
 "cells": [
  {
   "cell_type": "code",
   "execution_count": 2,
   "id": "2302d275-ec1c-46a2-9107-5f2b428cecb2",
   "metadata": {},
   "outputs": [],
   "source": [
    "import pandas as pd\n",
    "import json"
   ]
  },
  {
   "cell_type": "code",
   "execution_count": 16,
   "id": "7097cb89-ab3e-4875-8e8b-96b5e23bfe04",
   "metadata": {},
   "outputs": [],
   "source": [
    "jsonData = []\n",
    "with open('./brisbane_unprocessed.json', 'r') as file:\n",
    "    jsonData = json.loads(file.read())"
   ]
  },
  {
   "cell_type": "code",
   "execution_count": 17,
   "id": "9e59ff43-b748-4015-8568-1ade2ad76026",
   "metadata": {},
   "outputs": [
    {
     "data": {
      "text/plain": [
       "49"
      ]
     },
     "execution_count": 17,
     "metadata": {},
     "output_type": "execute_result"
    }
   ],
   "source": [
    "len(jsonData) # amount of matches"
   ]
  },
  {
   "cell_type": "code",
   "execution_count": null,
   "id": "c4884056-30a1-4bb8-a048-6c0633b49f58",
   "metadata": {},
   "outputs": [],
   "source": []
  }
 ],
 "metadata": {
  "kernelspec": {
   "display_name": "Python 3 (ipykernel)",
   "language": "python",
   "name": "python3"
  },
  "language_info": {
   "codemirror_mode": {
    "name": "ipython",
    "version": 3
   },
   "file_extension": ".py",
   "mimetype": "text/x-python",
   "name": "python",
   "nbconvert_exporter": "python",
   "pygments_lexer": "ipython3",
   "version": "3.11.6"
  }
 },
 "nbformat": 4,
 "nbformat_minor": 5
}
